{
 "cells": [
  {
   "cell_type": "code",
   "execution_count": 1,
   "id": "6d796479-916b-464c-9c7b-448306d9e7e9",
   "metadata": {
    "ExecuteTime": {
     "end_time": "2024-04-11T08:41:25.086551Z",
     "start_time": "2024-04-11T08:41:14.896715Z"
    }
   },
   "outputs": [],
   "source": [
    "import pandas as pd \n",
    "import wandb\n",
    "from tqdm import tqdm\n",
    "import requests\n",
    "import os\n",
    "import numpy as np\n",
    "import matplotlib.pyplot as plt\n",
    "import sklearn\n",
    "from sklearn import metrics\n",
    "import matplotlib.pyplot as plt\n",
    "import scipy.stats as stats\n",
    "import matplotlib.colors as mcolors"
   ]
  },
  {
   "cell_type": "code",
   "execution_count": 2,
   "id": "a9b533fe-a6ba-45c9-8bac-5da5e1414208",
   "metadata": {
    "ExecuteTime": {
     "end_time": "2024-04-11T08:41:41.493512Z",
     "start_time": "2024-04-11T08:41:41.387480Z"
    }
   },
   "outputs": [],
   "source": [
    "from read_wandb import wandb_results\n",
    "api = wandb_results(\"NLP2024_PROJECT_TZION_RANY\", wandb_username=\"tzion\")\n",
    "\n",
    "BASE_METRIC = \"accuracy_per_mean_user_and_bot\""
   ]
  },
  {
   "cell_type": "code",
   "outputs": [],
   "source": [
    "# def result_metric(sweeps, group_name, drop_list=[0], drop_HPT=False, metric=BASE_METRIC, epoch=\"best\"):\n",
    "#     df = api.get_sweeps_results(sweeps, metric=metric) \n",
    "# \n",
    "#     config_cols = [c for c in df.columns if \"config_\" in c and c!=\"config_wandb_run_id\" and c!=\"config_online_simulation_size\"]\n",
    "#     HPT_cols = [col for col in config_cols if df[col].nunique() > 1]\n",
    "#     print(HPT_cols)\n",
    "#     if drop_HPT:\n",
    "#         df=df.drop([c for c in HPT_cols if not c in [\"config_LLM_SIM_SIZE\", \"config_seed\"]], axis=1)\n",
    "#         HPT_cols = [\"config_LLM_SIM_SIZE\", \"config_seed\"]\n",
    "# \n",
    "#     grouped = df.groupby([c for c in HPT_cols if c != \"config_seed\"])\n",
    "# \n",
    "#     mean_df = grouped.mean()\n",
    "#     std_df = grouped.std()\n",
    "#     if epoch==\"best\":\n",
    "#         best_col = mean_df[[c for c in mean_df.columns if (metric in c and metric[-4:] == c.split(\"_epoch\")[0][-4:])]].idxmax(axis=1)\n",
    "#     else:\n",
    "#         best_col = mean_df[[c for c in mean_df.columns if f\"{metric}_epoch{epoch}\" in c]].idxmax(axis=1)\n",
    "# \n",
    "#     result = grouped.apply(lambda x: x[best_col.loc[x.name]].values)\n",
    "#     means = grouped.apply(lambda x: x[best_col.loc[x.name]].mean())\n",
    "#     stds = grouped.apply(lambda x: x[best_col.loc[x.name]].std())\n",
    "# \n",
    "# \n",
    "#     df_cols = {'mean': means, 'std': stds, 'values': result.values}\n",
    "#     if epoch == \"best\": df_cols['epoch'] = best_col.apply(lambda x: int(x.split(\"epoch\")[1]) if \"epoch\" in x else \"last\")\n",
    "# \n",
    "#     df_cols['CI'] = result.apply(lambda x: bootstrap_ci(x))\n",
    "# \n",
    "#     summary_df = pd.DataFrame(df_cols, index=best_col.index)\n",
    "#     for d in drop_list:\n",
    "#         if d in summary_df.index:\n",
    "#             summary_df=summary_df.drop(d)\n",
    "#     if len(summary_df.index.names) == 1:\n",
    "#         return summary_df.rename_axis(group_name)\n",
    "#     else:\n",
    "#         return summary_df\n",
    "# \n",
    "# def bootstrap_ci(data, n_bootstrap=1000, ci=0.95):\n",
    "#     bootstrapped_means = []\n",
    "#     for _ in range(n_bootstrap):\n",
    "#         sample = np.random.choice(data, size=len(data), replace=True)\n",
    "#         bootstrapped_means.append(np.mean(sample))\n",
    "#     lower_bound = np.percentile(bootstrapped_means, (1 - ci) / 2 * 100)\n",
    "#     upper_bound = np.percentile(bootstrapped_means, (1 + ci) / 2 * 100)\n",
    "#     return lower_bound, upper_bound"
   ],
   "metadata": {
    "collapsed": false,
    "ExecuteTime": {
     "end_time": "2024-04-10T15:33:03.145621Z",
     "start_time": "2024-04-10T15:33:03.133116Z"
    }
   },
   "id": "e5d7190b1601ff70",
   "execution_count": 52
  },
  {
   "cell_type": "code",
   "outputs": [],
   "source": [
    "def result_metric(sweeps, group_name, drop_list=[0], drop_HPT=False, metric=BASE_METRIC, epoch=\"best\"):\n",
    "    df = api.get_sweeps_results(sweeps, metric=metric) \n",
    "\n",
    "    config_cols = [c for c in df.columns if \"config_\" in c and c!=\"config_wandb_run_id\" and c!=\"config_online_simulation_size\"]\n",
    "    HPT_cols = [col for col in config_cols if df[col].nunique() > 1]\n",
    "    print(HPT_cols)\n",
    "    if drop_HPT:\n",
    "        df=df.drop([c for c in HPT_cols if not c in [\"config_LLM_SIM_SIZE\", \"config_seed\"]], axis=1)\n",
    "        HPT_cols = [\"config_LLM_SIM_SIZE\", \"config_seed\"]\n",
    "\n",
    "    # Remove non-numeric columns before computing mean and std\n",
    "    numeric_cols = df.select_dtypes(include=np.number).columns\n",
    "    df_numeric = df[numeric_cols]\n",
    "\n",
    "    grouped = df_numeric.groupby([c for c in HPT_cols if c != \"config_seed\"])\n",
    "\n",
    "    mean_df = grouped.mean()\n",
    "    std_df = grouped.std()\n",
    "    \n",
    "    # Re-add non-numeric columns before computing best_col\n",
    "    for col in config_cols:\n",
    "        if col not in mean_df.columns:\n",
    "            mean_df[col] = df[col]\n",
    "\n",
    "    if epoch==\"best\":\n",
    "        best_col = mean_df[[c for c in mean_df.columns if (metric in c and metric[-4:] == c.split(\"_epoch\")[0][-4:])]].idxmax(axis=1)\n",
    "    else:\n",
    "        best_col = mean_df[[c for c in mean_df.columns if f\"{metric}_epoch{epoch}\" in c]].idxmax(axis=1)\n",
    "\n",
    "    result = grouped.apply(lambda x: x[best_col.loc[x.name]].values)\n",
    "    means = grouped.apply(lambda x: x[best_col.loc[x.name]].mean())\n",
    "    stds = grouped.apply(lambda x: x[best_col.loc[x.name]].std())\n",
    "\n",
    "\n",
    "    df_cols = {'mean': means, 'std': stds, 'values': result.values}\n",
    "    if epoch == \"best\": df_cols['epoch'] = best_col.apply(lambda x: int(x.split(\"epoch\")[1]) if \"epoch\" in x else \"last\")\n",
    "\n",
    "    df_cols['CI'] = result.apply(lambda x: bootstrap_ci(x))\n",
    "\n",
    "    summary_df = pd.DataFrame(df_cols, index=best_col.index)\n",
    "    for d in drop_list:\n",
    "        if d in summary_df.index:\n",
    "            summary_df=summary_df.drop(d)\n",
    "    if len(summary_df.index.names) == 1:\n",
    "        return summary_df.rename_axis(group_name)\n",
    "    else:\n",
    "        return summary_df\n",
    "\n",
    "def bootstrap_ci(data, n_bootstrap=1000, ci=0.95):\n",
    "    bootstrapped_means = []\n",
    "    for _ in range(n_bootstrap):\n",
    "        sample = np.random.choice(data, size=len(data), replace=True)\n",
    "        bootstrapped_means.append(np.mean(sample))\n",
    "    lower_bound = np.percentile(bootstrapped_means, (1 - ci) / 2 * 100)\n",
    "    upper_bound = np.percentile(bootstrapped_means, (1 + ci) / 2 * 100)\n",
    "    return lower_bound, upper_bound\n"
   ],
   "metadata": {
    "collapsed": false,
    "ExecuteTime": {
     "end_time": "2024-04-11T08:41:59.815601Z",
     "start_time": "2024-04-11T08:41:59.802623Z"
    }
   },
   "id": "13426a4f1b5c7bde",
   "execution_count": 3
  },
  {
   "cell_type": "markdown",
   "id": "53a0ba0c-108c-43f5-8232-8b548c844b31",
   "metadata": {},
   "source": [
    "# For HyperParameterTuning"
   ]
  },
  {
   "cell_type": "markdown",
   "id": "dbe8fe89-e9e6-45f2-a2c0-e79a80e455ae",
   "metadata": {},
   "source": [
    "For every configuration that you test in the sweep, you will receive in the table the average, standard deviation, all the values obtained for the different seed values, and also the confidence interval within which the result is located at a confidence level of 95%.\n",
    "\n",
    "When epoch=\"best\" is defined, you can check in which epoch the best result is obtained. If epoch=5 is defined, you will receive the result obtained for epoch number 5.\n",
    "\n",
    "You can test multiple sweeps simultaneously by entering them into the list found in the first element of the function result_metric."
   ]
  },
  {
   "cell_type": "code",
   "execution_count": 4,
   "id": "9dd9321f-5c94-4f0c-8052-b50bd8bd3f4e",
   "metadata": {
    "ExecuteTime": {
     "end_time": "2024-04-11T08:43:41.601652Z",
     "start_time": "2024-04-11T08:43:40.341107Z"
    }
   },
   "outputs": [
    {
     "name": "stdout",
     "output_type": "stream",
     "text": [
      "Total number of sweeps: 1\n",
      "Download sweep_id='px13bj47' data...\n",
      "['config_seed', 'config_layers', 'config_hidden_dim']\n"
     ]
    },
    {
     "data": {
      "text/plain": "                                     mean       std  \\\nconfig_layers config_hidden_dim                       \n2             32                 0.822903  0.004485   \n              64                 0.821728  0.002065   \n4             32                 0.821501  0.003652   \n              64                 0.825733  0.002764   \n\n                                                                            values  \\\nconfig_layers config_hidden_dim                                                      \n2             32                 [0.8202714466298694, 0.8280817740751573, 0.820...   \n              64                 [0.8239268845406988, 0.8214274117475879, 0.819...   \n4             32                 [0.8179865378516612, 0.8252760405650429, 0.821...   \n              64                 [0.8226790369866819, 0.8280626878370055, 0.826...   \n\n                                 epoch  \\\nconfig_layers config_hidden_dim          \n2             32                    14   \n              64                     6   \n4             32                    19   \n              64                    18   \n\n                                                                       CI  \nconfig_layers config_hidden_dim                                            \n2             32                 (0.8202714466298694, 0.8280817740751573)  \n              64                  (0.8198289533398039, 0.823926884540699)  \n4             32                 (0.8179865378516612, 0.8252760405650429)  \n              64                 (0.8226790369866818, 0.8280626878370055)  ",
      "text/html": "<div>\n<style scoped>\n    .dataframe tbody tr th:only-of-type {\n        vertical-align: middle;\n    }\n\n    .dataframe tbody tr th {\n        vertical-align: top;\n    }\n\n    .dataframe thead th {\n        text-align: right;\n    }\n</style>\n<table border=\"1\" class=\"dataframe\">\n  <thead>\n    <tr style=\"text-align: right;\">\n      <th></th>\n      <th></th>\n      <th>mean</th>\n      <th>std</th>\n      <th>values</th>\n      <th>epoch</th>\n      <th>CI</th>\n    </tr>\n    <tr>\n      <th>config_layers</th>\n      <th>config_hidden_dim</th>\n      <th></th>\n      <th></th>\n      <th></th>\n      <th></th>\n      <th></th>\n    </tr>\n  </thead>\n  <tbody>\n    <tr>\n      <th rowspan=\"2\" valign=\"top\">2</th>\n      <th>32</th>\n      <td>0.822903</td>\n      <td>0.004485</td>\n      <td>[0.8202714466298694, 0.8280817740751573, 0.820...</td>\n      <td>14</td>\n      <td>(0.8202714466298694, 0.8280817740751573)</td>\n    </tr>\n    <tr>\n      <th>64</th>\n      <td>0.821728</td>\n      <td>0.002065</td>\n      <td>[0.8239268845406988, 0.8214274117475879, 0.819...</td>\n      <td>6</td>\n      <td>(0.8198289533398039, 0.823926884540699)</td>\n    </tr>\n    <tr>\n      <th rowspan=\"2\" valign=\"top\">4</th>\n      <th>32</th>\n      <td>0.821501</td>\n      <td>0.003652</td>\n      <td>[0.8179865378516612, 0.8252760405650429, 0.821...</td>\n      <td>19</td>\n      <td>(0.8179865378516612, 0.8252760405650429)</td>\n    </tr>\n    <tr>\n      <th>64</th>\n      <td>0.825733</td>\n      <td>0.002764</td>\n      <td>[0.8226790369866819, 0.8280626878370055, 0.826...</td>\n      <td>18</td>\n      <td>(0.8226790369866818, 0.8280626878370055)</td>\n    </tr>\n  </tbody>\n</table>\n</div>"
     },
     "execution_count": 4,
     "metadata": {},
     "output_type": "execute_result"
    }
   ],
   "source": [
    "# Create the directory if it doesn't exist\n",
    "directory = 'sweeps_csvs'\n",
    "if not os.path.exists(directory):\n",
    "    os.makedirs(directory)\n",
    "    \n",
    "sweep_results = result_metric([\"px13bj47\"], \"Hidden dim\", drop_HPT=False, epoch=\"best\")\n",
    "sweep_results"
   ]
  },
  {
   "cell_type": "markdown",
   "id": "3b7cf7c5-c884-43e2-9129-47a507f95124",
   "metadata": {},
   "source": [
    "# Result for a specific epoch"
   ]
  },
  {
   "cell_type": "code",
   "execution_count": 5,
   "id": "bfbdd8de-237f-4283-89b4-608c00121df7",
   "metadata": {
    "ExecuteTime": {
     "end_time": "2024-04-11T08:45:23.597913Z",
     "start_time": "2024-04-11T08:45:23.356684Z"
    }
   },
   "outputs": [
    {
     "name": "stdout",
     "output_type": "stream",
     "text": [
      "Total number of sweeps: 1\n",
      "Download sweep_id='px13bj47' data...\n",
      "['config_seed', 'config_layers', 'config_hidden_dim']\n"
     ]
    },
    {
     "data": {
      "text/plain": "                                     mean       std  \\\nconfig_layers config_hidden_dim                       \n2             32                 0.822903  0.004485   \n              64                 0.821078  0.004435   \n4             32                 0.821501  0.003652   \n              64                 0.825733  0.002764   \n\n                                                                            values  \\\nconfig_layers config_hidden_dim                                                      \n2             32                 [0.8202714466298694, 0.8280817740751573, 0.820...   \n              64                 [0.8224877120590862, 0.8246368273885568, 0.816...   \n4             32                 [0.8179865378516612, 0.8252760405650429, 0.821...   \n              64                 [0.8226790369866819, 0.8280626878370055, 0.826...   \n\n                                                                       CI  \nconfig_layers config_hidden_dim                                            \n2             32                 (0.8202714466298694, 0.8280817740751573)  \n              64                 (0.8161096617444225, 0.8246368273885568)  \n4             32                 (0.8179865378516612, 0.8252760405650429)  \n              64                 (0.8226790369866818, 0.8280626878370055)  ",
      "text/html": "<div>\n<style scoped>\n    .dataframe tbody tr th:only-of-type {\n        vertical-align: middle;\n    }\n\n    .dataframe tbody tr th {\n        vertical-align: top;\n    }\n\n    .dataframe thead th {\n        text-align: right;\n    }\n</style>\n<table border=\"1\" class=\"dataframe\">\n  <thead>\n    <tr style=\"text-align: right;\">\n      <th></th>\n      <th></th>\n      <th>mean</th>\n      <th>std</th>\n      <th>values</th>\n      <th>CI</th>\n    </tr>\n    <tr>\n      <th>config_layers</th>\n      <th>config_hidden_dim</th>\n      <th></th>\n      <th></th>\n      <th></th>\n      <th></th>\n    </tr>\n  </thead>\n  <tbody>\n    <tr>\n      <th rowspan=\"2\" valign=\"top\">2</th>\n      <th>32</th>\n      <td>0.822903</td>\n      <td>0.004485</td>\n      <td>[0.8202714466298694, 0.8280817740751573, 0.820...</td>\n      <td>(0.8202714466298694, 0.8280817740751573)</td>\n    </tr>\n    <tr>\n      <th>64</th>\n      <td>0.821078</td>\n      <td>0.004435</td>\n      <td>[0.8224877120590862, 0.8246368273885568, 0.816...</td>\n      <td>(0.8161096617444225, 0.8246368273885568)</td>\n    </tr>\n    <tr>\n      <th rowspan=\"2\" valign=\"top\">4</th>\n      <th>32</th>\n      <td>0.821501</td>\n      <td>0.003652</td>\n      <td>[0.8179865378516612, 0.8252760405650429, 0.821...</td>\n      <td>(0.8179865378516612, 0.8252760405650429)</td>\n    </tr>\n    <tr>\n      <th>64</th>\n      <td>0.825733</td>\n      <td>0.002764</td>\n      <td>[0.8226790369866819, 0.8280626878370055, 0.826...</td>\n      <td>(0.8226790369866818, 0.8280626878370055)</td>\n    </tr>\n  </tbody>\n</table>\n</div>"
     },
     "execution_count": 5,
     "metadata": {},
     "output_type": "execute_result"
    }
   ],
   "source": [
    "sweep_results = result_metric([\"px13bj47\"], \"Hidden dim\", drop_HPT=False, epoch=1)\n",
    "sweep_results"
   ]
  },
  {
   "cell_type": "code",
   "execution_count": null,
   "id": "a198a156-3e53-4ef4-9525-47e8671c7844",
   "metadata": {},
   "outputs": [],
   "source": []
  }
 ],
 "metadata": {
  "kernelspec": {
   "display_name": "Python 3",
   "language": "python",
   "name": "python3"
  },
  "language_info": {
   "codemirror_mode": {
    "name": "ipython",
    "version": 3
   },
   "file_extension": ".py",
   "mimetype": "text/x-python",
   "name": "python",
   "nbconvert_exporter": "python",
   "pygments_lexer": "ipython3",
   "version": "3.8.8"
  }
 },
 "nbformat": 4,
 "nbformat_minor": 5
}
