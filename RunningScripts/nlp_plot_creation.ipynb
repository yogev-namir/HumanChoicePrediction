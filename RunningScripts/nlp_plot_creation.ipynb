{
  "cells": [
    {
      "cell_type": "code",
      "execution_count": 1,
      "id": "1mA_y3FDafoa",
      "metadata": {
        "id": "1mA_y3FDafoa"
      },
      "outputs": [
        {
          "name": "stdout",
          "output_type": "stream",
          "text": [
            "\u001b[33mWARNING: Ignoring invalid distribution -ip (/anaconda/envs/py38_default/lib/python3.8/site-packages)\u001b[0m\u001b[33m\n",
            "\u001b[0mRequirement already satisfied: wandb in /anaconda/envs/py38_default/lib/python3.8/site-packages (0.17.0)\n",
            "Requirement already satisfied: click!=8.0.0,>=7.1 in /anaconda/envs/py38_default/lib/python3.8/site-packages (from wandb) (8.1.7)\n",
            "Requirement already satisfied: docker-pycreds>=0.4.0 in /anaconda/envs/py38_default/lib/python3.8/site-packages (from wandb) (0.4.0)\n",
            "Requirement already satisfied: gitpython!=3.1.29,>=1.0.0 in /anaconda/envs/py38_default/lib/python3.8/site-packages (from wandb) (3.1.40)\n",
            "Requirement already satisfied: platformdirs in /anaconda/envs/py38_default/lib/python3.8/site-packages (from wandb) (3.10.0)\n",
            "Requirement already satisfied: protobuf!=4.21.0,<5,>=3.12.0 in /anaconda/envs/py38_default/lib/python3.8/site-packages (from wandb) (3.19.6)\n",
            "Requirement already satisfied: psutil>=5.0.0 in /anaconda/envs/py38_default/lib/python3.8/site-packages (from wandb) (5.9.0)\n",
            "Requirement already satisfied: pyyaml in /anaconda/envs/py38_default/lib/python3.8/site-packages (from wandb) (6.0.1)\n",
            "Requirement already satisfied: requests<3,>=2.0.0 in /anaconda/envs/py38_default/lib/python3.8/site-packages (from wandb) (2.31.0)\n",
            "Requirement already satisfied: sentry-sdk>=1.0.0 in /anaconda/envs/py38_default/lib/python3.8/site-packages (from wandb) (2.3.0)\n",
            "Requirement already satisfied: setproctitle in /anaconda/envs/py38_default/lib/python3.8/site-packages (from wandb) (1.3.3)\n",
            "Requirement already satisfied: setuptools in /anaconda/envs/py38_default/lib/python3.8/site-packages (from wandb) (68.2.2)\n",
            "Requirement already satisfied: typing-extensions in /anaconda/envs/py38_default/lib/python3.8/site-packages (from wandb) (4.7.1)\n",
            "Requirement already satisfied: six>=1.4.0 in /anaconda/envs/py38_default/lib/python3.8/site-packages (from docker-pycreds>=0.4.0->wandb) (1.16.0)\n",
            "Requirement already satisfied: gitdb<5,>=4.0.1 in /anaconda/envs/py38_default/lib/python3.8/site-packages (from gitpython!=3.1.29,>=1.0.0->wandb) (4.0.11)\n",
            "Requirement already satisfied: charset-normalizer<4,>=2 in /anaconda/envs/py38_default/lib/python3.8/site-packages (from requests<3,>=2.0.0->wandb) (2.0.4)\n",
            "Requirement already satisfied: idna<4,>=2.5 in /anaconda/envs/py38_default/lib/python3.8/site-packages (from requests<3,>=2.0.0->wandb) (3.4)\n",
            "Requirement already satisfied: urllib3<3,>=1.21.1 in /anaconda/envs/py38_default/lib/python3.8/site-packages (from requests<3,>=2.0.0->wandb) (1.26.18)\n",
            "Requirement already satisfied: certifi>=2017.4.17 in /anaconda/envs/py38_default/lib/python3.8/site-packages (from requests<3,>=2.0.0->wandb) (2024.2.2)\n",
            "Requirement already satisfied: smmap<6,>=3.0.1 in /anaconda/envs/py38_default/lib/python3.8/site-packages (from gitdb<5,>=4.0.1->gitpython!=3.1.29,>=1.0.0->wandb) (5.0.0)\n",
            "\u001b[33mWARNING: Ignoring invalid distribution -ip (/anaconda/envs/py38_default/lib/python3.8/site-packages)\u001b[0m\u001b[33m\n",
            "\u001b[0mNote: you may need to restart the kernel to use updated packages.\n"
          ]
        }
      ],
      "source": [
        "%pip install wandb"
      ]
    },
    {
      "cell_type": "code",
      "execution_count": 14,
      "id": "6d796479-916b-464c-9c7b-448306d9e7e9",
      "metadata": {
        "ExecuteTime": {
          "end_time": "2024-05-22T07:04:43.667809Z",
          "start_time": "2024-05-22T07:04:43.632256Z"
        },
        "id": "6d796479-916b-464c-9c7b-448306d9e7e9"
      },
      "outputs": [],
      "source": [
        "import pandas as pd\n",
        "import wandb\n",
        "from tqdm import tqdm\n",
        "import requests\n",
        "import os\n",
        "import numpy as np\n",
        "import matplotlib.pyplot as plt\n",
        "import sklearn\n",
        "from sklearn import metrics\n",
        "import scipy.stats as stats\n",
        "import matplotlib.colors as mcolors\n",
        "from read_wandb import wandb_results"
      ]
    },
    {
      "cell_type": "code",
      "execution_count": 18,
      "id": "a9b533fe-a6ba-45c9-8bac-5da5e1414208",
      "metadata": {
        "ExecuteTime": {
          "end_time": "2024-05-22T07:04:44.523238Z",
          "start_time": "2024-05-22T07:04:44.466860Z"
        },
        "id": "a9b533fe-a6ba-45c9-8bac-5da5e1414208"
      },
      "outputs": [],
      "source": [
        "project_name = 'NLP2024_PROJECT_yogev-avishag' # enter project name here\n",
        "username = 'yogev-avishag' # enter group name here\n",
        "\n",
        "api = wandb_results(project_name, wandb_username=username)\n",
        "\n",
        "BASE_METRIC = \"accuracy_per_mean_user_and_bot\"\n",
        "sweep_id = 'jgpbxr61' #enter sweep id here\n"
      ]
    },
    {
      "cell_type": "code",
      "execution_count": 19,
      "id": "wi0JI3JSaMK_",
      "metadata": {
        "id": "wi0JI3JSaMK_"
      },
      "outputs": [
        {
          "name": "stdout",
          "output_type": "stream",
          "text": [
            "Total number of sweeps: 1\n",
            "Download sweep_id='jgpbxr61' data...\n"
          ]
        }
      ],
      "source": [
        "df = api.get_sweeps_results([sweep_id], metric=\"accuracy_per_mean_user_and_bot\")\n"
      ]
    },
    {
      "cell_type": "code",
      "execution_count": 20,
      "id": "-tnPUCMAbnBf",
      "metadata": {
        "id": "-tnPUCMAbnBf"
      },
      "outputs": [
        {
          "data": {
            "text/plain": [
              "Index(['name', 'config_seed', 'config_task', 'config_agent', 'config_layers',\n",
              "       'config_dropout', 'config_features', 'config_input_dim',\n",
              "       'config_max_games', 'config_REVIEW_DIM',\n",
              "       ...\n",
              "       'ENV_Test_proba_accuracy', 'ENV_Train_Right action_epoch13',\n",
              "       'ENV_Test_accuracy_strategy_43_epoch12',\n",
              "       'ENV_Test_accuracy_strategy_107_epoch19',\n",
              "       'ENV_Test_proba_accuracy_strategy_93_epoch13',\n",
              "       'ENV_Test_Weighted right action_epoch13',\n",
              "       'ENV_Online Simulation_Weighted right action_epoch19',\n",
              "       'ENV_Test_proba_accuracy_strategy_107_epoch4',\n",
              "       'ENV_Test_proba_accuracy_per_mean_strategy_epoch15', '_wandb.runtime'],\n",
              "      dtype='object', length=954)"
            ]
          },
          "execution_count": 20,
          "metadata": {},
          "output_type": "execute_result"
        }
      ],
      "source": [
        "df.columns"
      ]
    },
    {
      "cell_type": "code",
      "execution_count": 21,
      "id": "MrZZ-3UDb8Tf",
      "metadata": {
        "id": "MrZZ-3UDb8Tf"
      },
      "outputs": [],
      "source": [
        "epoch_acc = [f'ENV_Test_accuracy_per_mean_user_and_bot_epoch{i}' for i in range(20)]\n",
        "cols_to_keep = epoch_acc + ['config_online_simulation_factor']\n",
        "df = df[cols_to_keep]"
      ]
    },
    {
      "cell_type": "code",
      "execution_count": 22,
      "id": "q0xfmGylcaLw",
      "metadata": {
        "id": "q0xfmGylcaLw"
      },
      "outputs": [
        {
          "data": {
            "text/html": [
              "<div>\n",
              "<style scoped>\n",
              "    .dataframe tbody tr th:only-of-type {\n",
              "        vertical-align: middle;\n",
              "    }\n",
              "\n",
              "    .dataframe tbody tr th {\n",
              "        vertical-align: top;\n",
              "    }\n",
              "\n",
              "    .dataframe thead th {\n",
              "        text-align: right;\n",
              "    }\n",
              "</style>\n",
              "<table border=\"1\" class=\"dataframe\">\n",
              "  <thead>\n",
              "    <tr style=\"text-align: right;\">\n",
              "      <th></th>\n",
              "      <th>ENV_Test_accuracy_per_mean_user_and_bot_epoch0</th>\n",
              "      <th>ENV_Test_accuracy_per_mean_user_and_bot_epoch1</th>\n",
              "      <th>ENV_Test_accuracy_per_mean_user_and_bot_epoch2</th>\n",
              "      <th>ENV_Test_accuracy_per_mean_user_and_bot_epoch3</th>\n",
              "      <th>ENV_Test_accuracy_per_mean_user_and_bot_epoch4</th>\n",
              "      <th>ENV_Test_accuracy_per_mean_user_and_bot_epoch5</th>\n",
              "      <th>ENV_Test_accuracy_per_mean_user_and_bot_epoch6</th>\n",
              "      <th>ENV_Test_accuracy_per_mean_user_and_bot_epoch7</th>\n",
              "      <th>ENV_Test_accuracy_per_mean_user_and_bot_epoch8</th>\n",
              "      <th>ENV_Test_accuracy_per_mean_user_and_bot_epoch9</th>\n",
              "      <th>ENV_Test_accuracy_per_mean_user_and_bot_epoch10</th>\n",
              "      <th>ENV_Test_accuracy_per_mean_user_and_bot_epoch11</th>\n",
              "      <th>ENV_Test_accuracy_per_mean_user_and_bot_epoch12</th>\n",
              "      <th>ENV_Test_accuracy_per_mean_user_and_bot_epoch13</th>\n",
              "      <th>ENV_Test_accuracy_per_mean_user_and_bot_epoch14</th>\n",
              "      <th>ENV_Test_accuracy_per_mean_user_and_bot_epoch15</th>\n",
              "      <th>ENV_Test_accuracy_per_mean_user_and_bot_epoch16</th>\n",
              "      <th>ENV_Test_accuracy_per_mean_user_and_bot_epoch17</th>\n",
              "      <th>ENV_Test_accuracy_per_mean_user_and_bot_epoch18</th>\n",
              "      <th>ENV_Test_accuracy_per_mean_user_and_bot_epoch19</th>\n",
              "    </tr>\n",
              "  </thead>\n",
              "  <tbody>\n",
              "    <tr>\n",
              "      <th>0</th>\n",
              "      <td>0.817672</td>\n",
              "      <td>0.821106</td>\n",
              "      <td>0.824044</td>\n",
              "      <td>0.824653</td>\n",
              "      <td>0.826668</td>\n",
              "      <td>0.827664</td>\n",
              "      <td>0.826096</td>\n",
              "      <td>0.828183</td>\n",
              "      <td>0.828898</td>\n",
              "      <td>0.827504</td>\n",
              "      <td>0.827139</td>\n",
              "      <td>0.826615</td>\n",
              "      <td>0.827918</td>\n",
              "      <td>0.828512</td>\n",
              "      <td>0.825452</td>\n",
              "      <td>0.826507</td>\n",
              "      <td>0.826108</td>\n",
              "      <td>0.825793</td>\n",
              "      <td>0.825439</td>\n",
              "      <td>0.824415</td>\n",
              "    </tr>\n",
              "    <tr>\n",
              "      <th>1</th>\n",
              "      <td>0.825915</td>\n",
              "      <td>0.831456</td>\n",
              "      <td>0.829612</td>\n",
              "      <td>0.830074</td>\n",
              "      <td>0.828918</td>\n",
              "      <td>0.825926</td>\n",
              "      <td>0.832413</td>\n",
              "      <td>0.834881</td>\n",
              "      <td>0.833381</td>\n",
              "      <td>0.835573</td>\n",
              "      <td>0.834357</td>\n",
              "      <td>0.832988</td>\n",
              "      <td>0.833517</td>\n",
              "      <td>0.832806</td>\n",
              "      <td>0.837756</td>\n",
              "      <td>0.832042</td>\n",
              "      <td>0.837574</td>\n",
              "      <td>0.833666</td>\n",
              "      <td>0.838128</td>\n",
              "      <td>0.831484</td>\n",
              "    </tr>\n",
              "  </tbody>\n",
              "</table>\n",
              "</div>"
            ],
            "text/plain": [
              "   ENV_Test_accuracy_per_mean_user_and_bot_epoch0  \\\n",
              "0                                        0.817672   \n",
              "1                                        0.825915   \n",
              "\n",
              "   ENV_Test_accuracy_per_mean_user_and_bot_epoch1  \\\n",
              "0                                        0.821106   \n",
              "1                                        0.831456   \n",
              "\n",
              "   ENV_Test_accuracy_per_mean_user_and_bot_epoch2  \\\n",
              "0                                        0.824044   \n",
              "1                                        0.829612   \n",
              "\n",
              "   ENV_Test_accuracy_per_mean_user_and_bot_epoch3  \\\n",
              "0                                        0.824653   \n",
              "1                                        0.830074   \n",
              "\n",
              "   ENV_Test_accuracy_per_mean_user_and_bot_epoch4  \\\n",
              "0                                        0.826668   \n",
              "1                                        0.828918   \n",
              "\n",
              "   ENV_Test_accuracy_per_mean_user_and_bot_epoch5  \\\n",
              "0                                        0.827664   \n",
              "1                                        0.825926   \n",
              "\n",
              "   ENV_Test_accuracy_per_mean_user_and_bot_epoch6  \\\n",
              "0                                        0.826096   \n",
              "1                                        0.832413   \n",
              "\n",
              "   ENV_Test_accuracy_per_mean_user_and_bot_epoch7  \\\n",
              "0                                        0.828183   \n",
              "1                                        0.834881   \n",
              "\n",
              "   ENV_Test_accuracy_per_mean_user_and_bot_epoch8  \\\n",
              "0                                        0.828898   \n",
              "1                                        0.833381   \n",
              "\n",
              "   ENV_Test_accuracy_per_mean_user_and_bot_epoch9  \\\n",
              "0                                        0.827504   \n",
              "1                                        0.835573   \n",
              "\n",
              "   ENV_Test_accuracy_per_mean_user_and_bot_epoch10  \\\n",
              "0                                         0.827139   \n",
              "1                                         0.834357   \n",
              "\n",
              "   ENV_Test_accuracy_per_mean_user_and_bot_epoch11  \\\n",
              "0                                         0.826615   \n",
              "1                                         0.832988   \n",
              "\n",
              "   ENV_Test_accuracy_per_mean_user_and_bot_epoch12  \\\n",
              "0                                         0.827918   \n",
              "1                                         0.833517   \n",
              "\n",
              "   ENV_Test_accuracy_per_mean_user_and_bot_epoch13  \\\n",
              "0                                         0.828512   \n",
              "1                                         0.832806   \n",
              "\n",
              "   ENV_Test_accuracy_per_mean_user_and_bot_epoch14  \\\n",
              "0                                         0.825452   \n",
              "1                                         0.837756   \n",
              "\n",
              "   ENV_Test_accuracy_per_mean_user_and_bot_epoch15  \\\n",
              "0                                         0.826507   \n",
              "1                                         0.832042   \n",
              "\n",
              "   ENV_Test_accuracy_per_mean_user_and_bot_epoch16  \\\n",
              "0                                         0.826108   \n",
              "1                                         0.837574   \n",
              "\n",
              "   ENV_Test_accuracy_per_mean_user_and_bot_epoch17  \\\n",
              "0                                         0.825793   \n",
              "1                                         0.833666   \n",
              "\n",
              "   ENV_Test_accuracy_per_mean_user_and_bot_epoch18  \\\n",
              "0                                         0.825439   \n",
              "1                                         0.838128   \n",
              "\n",
              "   ENV_Test_accuracy_per_mean_user_and_bot_epoch19  \n",
              "0                                         0.824415  \n",
              "1                                         0.831484  "
            ]
          },
          "execution_count": 22,
          "metadata": {},
          "output_type": "execute_result"
        }
      ],
      "source": [
        "result = df.groupby('config_online_simulation_factor').mean().reset_index()\n",
        "result = result[epoch_acc]\n",
        "result"
      ]
    },
    {
      "cell_type": "code",
      "execution_count": 23,
      "id": "Akc03P12e1P8",
      "metadata": {
        "id": "Akc03P12e1P8"
      },
      "outputs": [
        {
          "ename": "IndexError",
          "evalue": "single positional indexer is out-of-bounds",
          "output_type": "error",
          "traceback": [
            "\u001b[0;31m---------------------------------------------------------------------------\u001b[0m",
            "\u001b[0;31mIndexError\u001b[0m                                Traceback (most recent call last)",
            "Cell \u001b[0;32mIn[23], line 3\u001b[0m\n\u001b[1;32m      1\u001b[0m half_ratio \u001b[38;5;241m=\u001b[39m result\u001b[38;5;241m.\u001b[39miloc[\u001b[38;5;241m0\u001b[39m]\n\u001b[1;32m      2\u001b[0m one_ratio \u001b[38;5;241m=\u001b[39m result\u001b[38;5;241m.\u001b[39miloc[\u001b[38;5;241m1\u001b[39m]\n\u001b[0;32m----> 3\u001b[0m two_ratio \u001b[38;5;241m=\u001b[39m \u001b[43mresult\u001b[49m\u001b[38;5;241;43m.\u001b[39;49m\u001b[43miloc\u001b[49m\u001b[43m[\u001b[49m\u001b[38;5;241;43m2\u001b[39;49m\u001b[43m]\u001b[49m\n\u001b[1;32m      4\u001b[0m four_ratio \u001b[38;5;241m=\u001b[39m result\u001b[38;5;241m.\u001b[39miloc[\u001b[38;5;241m3\u001b[39m]\n\u001b[1;32m      5\u001b[0m x_axis \u001b[38;5;241m=\u001b[39m \u001b[38;5;28mrange\u001b[39m(\u001b[38;5;241m20\u001b[39m)\n",
            "File \u001b[0;32m/anaconda/envs/py38_default/lib/python3.8/site-packages/pandas/core/indexing.py:1073\u001b[0m, in \u001b[0;36m_LocationIndexer.__getitem__\u001b[0;34m(self, key)\u001b[0m\n\u001b[1;32m   1070\u001b[0m axis \u001b[38;5;241m=\u001b[39m \u001b[38;5;28mself\u001b[39m\u001b[38;5;241m.\u001b[39maxis \u001b[38;5;129;01mor\u001b[39;00m \u001b[38;5;241m0\u001b[39m\n\u001b[1;32m   1072\u001b[0m maybe_callable \u001b[38;5;241m=\u001b[39m com\u001b[38;5;241m.\u001b[39mapply_if_callable(key, \u001b[38;5;28mself\u001b[39m\u001b[38;5;241m.\u001b[39mobj)\n\u001b[0;32m-> 1073\u001b[0m \u001b[38;5;28;01mreturn\u001b[39;00m \u001b[38;5;28;43mself\u001b[39;49m\u001b[38;5;241;43m.\u001b[39;49m\u001b[43m_getitem_axis\u001b[49m\u001b[43m(\u001b[49m\u001b[43mmaybe_callable\u001b[49m\u001b[43m,\u001b[49m\u001b[43m \u001b[49m\u001b[43maxis\u001b[49m\u001b[38;5;241;43m=\u001b[39;49m\u001b[43maxis\u001b[49m\u001b[43m)\u001b[49m\n",
            "File \u001b[0;32m/anaconda/envs/py38_default/lib/python3.8/site-packages/pandas/core/indexing.py:1625\u001b[0m, in \u001b[0;36m_iLocIndexer._getitem_axis\u001b[0;34m(self, key, axis)\u001b[0m\n\u001b[1;32m   1622\u001b[0m     \u001b[38;5;28;01mraise\u001b[39;00m \u001b[38;5;167;01mTypeError\u001b[39;00m(\u001b[38;5;124m\"\u001b[39m\u001b[38;5;124mCannot index by location index with a non-integer key\u001b[39m\u001b[38;5;124m\"\u001b[39m)\n\u001b[1;32m   1624\u001b[0m \u001b[38;5;66;03m# validate the location\u001b[39;00m\n\u001b[0;32m-> 1625\u001b[0m \u001b[38;5;28;43mself\u001b[39;49m\u001b[38;5;241;43m.\u001b[39;49m\u001b[43m_validate_integer\u001b[49m\u001b[43m(\u001b[49m\u001b[43mkey\u001b[49m\u001b[43m,\u001b[49m\u001b[43m \u001b[49m\u001b[43maxis\u001b[49m\u001b[43m)\u001b[49m\n\u001b[1;32m   1627\u001b[0m \u001b[38;5;28;01mreturn\u001b[39;00m \u001b[38;5;28mself\u001b[39m\u001b[38;5;241m.\u001b[39mobj\u001b[38;5;241m.\u001b[39m_ixs(key, axis\u001b[38;5;241m=\u001b[39maxis)\n",
            "File \u001b[0;32m/anaconda/envs/py38_default/lib/python3.8/site-packages/pandas/core/indexing.py:1557\u001b[0m, in \u001b[0;36m_iLocIndexer._validate_integer\u001b[0;34m(self, key, axis)\u001b[0m\n\u001b[1;32m   1555\u001b[0m len_axis \u001b[38;5;241m=\u001b[39m \u001b[38;5;28mlen\u001b[39m(\u001b[38;5;28mself\u001b[39m\u001b[38;5;241m.\u001b[39mobj\u001b[38;5;241m.\u001b[39m_get_axis(axis))\n\u001b[1;32m   1556\u001b[0m \u001b[38;5;28;01mif\u001b[39;00m key \u001b[38;5;241m>\u001b[39m\u001b[38;5;241m=\u001b[39m len_axis \u001b[38;5;129;01mor\u001b[39;00m key \u001b[38;5;241m<\u001b[39m \u001b[38;5;241m-\u001b[39mlen_axis:\n\u001b[0;32m-> 1557\u001b[0m     \u001b[38;5;28;01mraise\u001b[39;00m \u001b[38;5;167;01mIndexError\u001b[39;00m(\u001b[38;5;124m\"\u001b[39m\u001b[38;5;124msingle positional indexer is out-of-bounds\u001b[39m\u001b[38;5;124m\"\u001b[39m)\n",
            "\u001b[0;31mIndexError\u001b[0m: single positional indexer is out-of-bounds"
          ]
        }
      ],
      "source": [
        "half_ratio = result.iloc[0]\n",
        "one_ratio = result.iloc[1]\n",
        "two_ratio = result.iloc[2]\n",
        "four_ratio = result.iloc[3]\n",
        "x_axis = range(20)\n",
        "plt.plot(x_axis, half_ratio, label='0.5', marker='^')\n",
        "plt.plot(x_axis, one_ratio, label='1', marker='o')\n",
        "plt.plot(x_axis, two_ratio, label='2', marker='v')\n",
        "plt.plot(x_axis, four_ratio, label='4', marker='s')\n",
        "plt.title(f'enter title here')\n",
        "plt.xlabel('Epoch')\n",
        "plt.ylabel('Accuracy')\n",
        "plt.legend()\n",
        "plt.show()"
      ]
    },
    {
      "cell_type": "code",
      "execution_count": null,
      "id": "3dcd38af",
      "metadata": {},
      "outputs": [],
      "source": []
    }
  ],
  "metadata": {
    "colab": {
      "provenance": []
    },
    "kernelspec": {
      "display_name": "Python 3.8 - Spark (local)",
      "language": "python",
      "name": "spark-3-python"
    }
  },
  "nbformat": 4,
  "nbformat_minor": 5
}
